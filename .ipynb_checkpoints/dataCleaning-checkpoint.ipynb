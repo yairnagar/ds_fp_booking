{
 "cells": [
  {
   "cell_type": "code",
   "execution_count": null,
   "metadata": {},
   "outputs": [],
   "source": [
    "import pandas as pd\n",
    "import numpy as np"
   ]
  },
  {
   "cell_type": "code",
   "execution_count": null,
   "metadata": {},
   "outputs": [],
   "source": [
    "df = pd.read_csv(\"Phoenix.csv\")\n",
    "df.head(50)\n",
    "df.info()"
   ]
  },
  {
   "cell_type": "code",
   "execution_count": null,
   "metadata": {},
   "outputs": [],
   "source": [
    "# convert closest transportation raw from m to km\n",
    "df['Closest transportation'] = df['Closest transportation'].str.replace(',','')\n",
    "df['Closest transportation'] = df['Closest transportation'].astype(np.float64)\n",
    "trasportation = []\n",
    "for i in range(len(df['Closest transportation'])):\n",
    "    if df['Closest transportation'][i] >= 15:\n",
    "        value = float( df['Closest transportation'][i] / 1000)\n",
    "        trasportation.append(value)\n",
    "    else:\n",
    "        trasportation.append(df['Closest transportation'][i])\n",
    "df['Closest transportation'] = trasportation\n"
   ]
  },
  {
   "cell_type": "code",
   "execution_count": null,
   "metadata": {},
   "outputs": [],
   "source": [
    "# convert closest attraction raw from m to km\n",
    "df['Closest attraction dist'] = df['Closest attraction dist'].str.replace(',','')\n",
    "df['Closest attraction dist'] = df['Closest attraction dist'].astype(np.float64)\n",
    "attraction = []\n",
    "for i in range(len(df['Closest attraction dist'])):\n",
    "    if df['Closest attraction dist'][i] >= 15:\n",
    "        value = float( df['Closest attraction dist'][i] / 1000)\n",
    "        attraction.append(value)\n",
    "    else:\n",
    "        attraction.append(float(df['Closest attraction dist'][i]))\n",
    "df['Closest attraction dist'] = attraction"
   ]
  },
  {
   "cell_type": "code",
   "execution_count": null,
   "metadata": {},
   "outputs": [],
   "source": [
    "# remove duplication of rows\n",
    "df.drop_duplicates(keep = \"first\", inplace = True)\n",
    "print(\"After removing duplicates : \")\n",
    "df.info()\n"
   ]
  },
  {
   "cell_type": "code",
   "execution_count": null,
   "metadata": {},
   "outputs": [],
   "source": [
    "#fill nan values to mean value in Wifi rows\n",
    "mean_Wifi = df['Wifi'].fillna(df['Wifi'].mean())\n",
    "df['Wifi'] = mean_Wifi\n",
    "print(\"After filling mean value instead of NAN: \")\n",
    "df.head(50)\n",
    "df.info()"
   ]
  },
  {
   "cell_type": "code",
   "execution_count": null,
   "metadata": {},
   "outputs": [],
   "source": [
    "# remove rows where stars = 0\n",
    "df = df[df.Stars != 0]\n",
    "print(\"After removing missing stars : \")\n",
    "df.head(50)\n",
    "df.info()"
   ]
  },
  {
   "cell_type": "code",
   "execution_count": null,
   "metadata": {},
   "outputs": [],
   "source": [
    "# remove rows with missing values\n",
    "df.dropna(axis=0, subset=[\"Allowing pets\", \"Closest attraction dist\",\"Closest transportation\", \"Closest airport\", \"payment methods\", \"Rating\"], inplace = True)\n",
    "print(\"After removing all missing values : \")\n",
    "df.head(50)\n",
    "df.info()\n"
   ]
  },
  {
   "cell_type": "code",
   "execution_count": null,
   "metadata": {},
   "outputs": [],
   "source": [
    "df.reset_index(drop=True, inplace=True)\n",
    "print(\"After reset index :\")\n",
    "df.head(50)\n",
    "df.info()"
   ]
  },
  {
   "cell_type": "code",
   "execution_count": null,
   "metadata": {},
   "outputs": [],
   "source": [
    "df['Price'] = df['Price'].str.replace(',','')\n",
    "df['Reviews'] = df['Reviews'].str.replace(',','')\n",
    "\n",
    "# convert columns to float.\n",
    "df = df.astype({'Price':np.float64,'Reviews':np.float64, 'Closest airport' : np.float64})\n",
    "print(\"After converting to float : \")\n",
    "df.head(50)\n",
    "df.info()"
   ]
  },
  {
   "cell_type": "code",
   "execution_count": null,
   "metadata": {},
   "outputs": [],
   "source": [
    "df.to_csv(\"Clean_Phoenix.csv\")"
   ]
  }
 ],
 "metadata": {
  "kernelspec": {
   "display_name": "Python 3 (ipykernel)",
   "language": "python",
   "name": "python3"
  },
  "language_info": {
   "codemirror_mode": {
    "name": "ipython",
    "version": 3
   },
   "file_extension": ".py",
   "mimetype": "text/x-python",
   "name": "python",
   "nbconvert_exporter": "python",
   "pygments_lexer": "ipython3",
   "version": "3.9.13"
  },
  "vscode": {
   "interpreter": {
    "hash": "aee8b7b246df8f9039afb4144a1f6fd8d2ca17a180786b69acc140d282b71a49"
   }
  }
 },
 "nbformat": 4,
 "nbformat_minor": 2
}
